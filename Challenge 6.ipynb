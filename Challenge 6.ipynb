{
 "cells": [
  {
   "cell_type": "markdown",
   "id": "a21b4273",
   "metadata": {},
   "source": [
    "### Challenge 6: Part 1"
   ]
  },
  {
   "cell_type": "code",
   "execution_count": 19,
   "id": "98686ba9",
   "metadata": {},
   "outputs": [],
   "source": [
    "inputfile = open(\"challenge6-input.txt\", \"r\")\n",
    "data = inputfile.read()\n",
    "group_list = data.split('\\n\\n')"
   ]
  },
  {
   "cell_type": "markdown",
   "id": "5d3784c1",
   "metadata": {},
   "source": [
    "#### this is how group_list looks like now: "
   ]
  },
  {
   "cell_type": "code",
   "execution_count": 14,
   "id": "cfd1f99f",
   "metadata": {},
   "outputs": [],
   "source": [
    "# group_list = ['su\\negu', 'h\\nh\\nh\\nh', 'cpuqz\\ncfqu\\ncqekuv\\nxunqc', 'hsaygprt\\nhsfatgyr\\nsrtagyfbph\\nrgqywhsealtx', ...]"
   ]
  },
  {
   "cell_type": "code",
   "execution_count": 10,
   "id": "a9e779b7",
   "metadata": {},
   "outputs": [],
   "source": [
    "def YesCount(group_list) -> int:\n",
    "    cleaned_list = []\n",
    "    for i in group_list:\n",
    "        cleaned_list.append(i.replace('\\n', ''))\n",
    "    count = 0\n",
    "    for i in cleaned_list: \n",
    "        count += len(set(i))\n",
    "    return count"
   ]
  },
  {
   "cell_type": "code",
   "execution_count": 11,
   "id": "03e91198",
   "metadata": {},
   "outputs": [
    {
     "data": {
      "text/plain": [
       "6590"
      ]
     },
     "execution_count": 11,
     "metadata": {},
     "output_type": "execute_result"
    }
   ],
   "source": [
    "YesCount(group_list)"
   ]
  },
  {
   "cell_type": "markdown",
   "id": "90114348",
   "metadata": {},
   "source": [
    "### Challenge 6: Part 2"
   ]
  },
  {
   "cell_type": "code",
   "execution_count": 15,
   "id": "710470d7",
   "metadata": {},
   "outputs": [],
   "source": [
    "def YesCount2(group_list) -> int:\n",
    "    \n",
    "    new_list =[]\n",
    "    for i in group_list:\n",
    "        new_list.append(i.split('\\n'))\n",
    "    empty_string=''\n",
    "    unique_character_list = []\n",
    "    \n",
    "    # new_list = [['su', 'egu'], ['h', 'h', 'h', 'h'], ['cpuqz', 'cfqu', 'cqekuv', 'xunqc'], ...]\n",
    "    \n",
    "    for i in new_list:\n",
    "        empty_string=i[0]\n",
    "        for j in i: \n",
    "            empty_string = ''.join(set(empty_string).intersection(j))\n",
    "        unique_character_list.append(empty_string)\n",
    "    \n",
    "    # unique_character_list = ['u', 'h', 'cqu', ...]\n",
    "    \n",
    "    count = 0\n",
    "    for k in unique_character_list:\n",
    "        count +=len(k)\n",
    "    return count"
   ]
  },
  {
   "cell_type": "code",
   "execution_count": 16,
   "id": "88ae8914",
   "metadata": {},
   "outputs": [
    {
     "data": {
      "text/plain": [
       "3288"
      ]
     },
     "execution_count": 16,
     "metadata": {},
     "output_type": "execute_result"
    }
   ],
   "source": [
    "YesCount2(group_list)"
   ]
  },
  {
   "cell_type": "markdown",
   "id": "53288467",
   "metadata": {},
   "source": [
    "\n"
   ]
  },
  {
   "cell_type": "code",
   "execution_count": null,
   "id": "cc80cd3a",
   "metadata": {},
   "outputs": [],
   "source": []
  }
 ],
 "metadata": {
  "kernelspec": {
   "display_name": "Python 3 (ipykernel)",
   "language": "python",
   "name": "python3"
  },
  "language_info": {
   "codemirror_mode": {
    "name": "ipython",
    "version": 3
   },
   "file_extension": ".py",
   "mimetype": "text/x-python",
   "name": "python",
   "nbconvert_exporter": "python",
   "pygments_lexer": "ipython3",
   "version": "3.9.7"
  }
 },
 "nbformat": 4,
 "nbformat_minor": 5
}
